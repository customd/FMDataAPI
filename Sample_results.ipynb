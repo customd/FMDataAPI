{
 "cells": [
  {
   "cell_type": "markdown",
   "metadata": {},
   "source": [
    "# FMDataAPI Sample Results\n",
    "\n",
    "by Masayuki Nii (nii@msyk.net)\n",
    "\n",
    "FMDataAPI is a class developed by PHP to access FileMaker database with FileMaker Data API.\n",
    "\n",
    "The repository is https://github.com/msyk/FMDataAPI.\n",
    "\n",
    "API Document is http://inter-mediator.info/FMDataAPI/namespaces/INTERMediator.FileMakerServer.RESTAPI.html.\n",
    "\n",
    "The identifier of Composer is \"inter-mediator/fmdataapi\".\n",
    "\n",
    "Ths notebook aims to show the results of FMDataAPI in short hand. You don't have to prepare PHP even FileMaker Server because you can see all results with codes in this notebook."
   ]
  },
  {
   "cell_type": "markdown",
   "metadata": {},
   "source": [
    "## Preparing to Use FMDataAPI in PHP way\n",
    "\n",
    "First of all, the FMDataAPI.php file has to be included. All classes are defined in it. Of course, you can specify partial or full path, or composer based class path resolving."
   ]
  },
  {
   "cell_type": "code",
   "execution_count": 1,
   "metadata": {},
   "outputs": [
    {
     "data": {
      "text/plain": [
       "\u001b[35m1\u001b[39m"
      ]
     },
     "execution_count": 1,
     "metadata": {},
     "output_type": "execute_result"
    }
   ],
   "source": [
    "include_once \"FMDataAPI.php\";"
   ]
  },
  {
   "cell_type": "markdown",
   "metadata": {},
   "source": [
    "For your convenience, the main class name FMDataAPI is defined at the current namespace."
   ]
  },
  {
   "cell_type": "code",
   "execution_count": 2,
   "metadata": {},
   "outputs": [],
   "source": [
    "use INTERMediator\\FileMakerServer\\RESTAPI\\FMDataAPI as FMDataAPI;"
   ]
  },
  {
   "cell_type": "markdown",
   "metadata": {},
   "source": [
    "## Getting Access to FileMaker DB\n",
    "Instanticate the class FMDataAPI with database name, user name, password and host.Although the port number and protocol can be set in parameters of constractor, these parameters can be omitted with default values."
   ]
  },
  {
   "cell_type": "code",
   "execution_count": 3,
   "metadata": {},
   "outputs": [
    {
     "data": {
      "text/plain": [
       "\u001b[34;4mINTERMediator\\FileMakerServer\\RESTAPI\\FMDataAPI\u001b[39;24m {#200}"
      ]
     },
     "execution_count": 3,
     "metadata": {},
     "output_type": "execute_result"
    }
   ],
   "source": [
    "$fmdb = new FMDataAPI(\"TestDB\", \"web\", \"password\", \"localserver\");"
   ]
  },
  {
   "cell_type": "markdown",
   "metadata": {},
   "source": [
    "### Very Simple Query, Getting All Records\n",
    "The FMDataAPI has the property as the same name of layout. This sample database has the 'person_layout' layout, so '$fmdb->person_layout' refers FMLayout object fo the proxy of the layout. FMLayout class has the 'query' method and returns FileMakerRelation class's object. The condition spefied in parameter is same as FileMaker's Find Record API. This example means querying all record from the \"person_layout\" layout."
   ]
  },
  {
   "cell_type": "code",
   "execution_count": 4,
   "metadata": {},
   "outputs": [
    {
     "data": {
      "text/plain": [
       "\u001b[34;4mINTERMediator\\FileMakerServer\\RESTAPI\\Supporting\\FileMakerRelation\u001b[39;24m {#192}"
      ]
     },
     "execution_count": 4,
     "metadata": {},
     "output_type": "execute_result"
    }
   ],
   "source": [
    "$result = $fmdb->person_layout->query();"
   ]
  },
  {
   "cell_type": "markdown",
   "metadata": {},
   "source": [
    "The 'httpStatus()' method returns the HTTP status code in the latest response."
   ]
  },
  {
   "cell_type": "code",
   "execution_count": 5,
   "metadata": {},
   "outputs": [
    {
     "data": {
      "text/plain": [
       "HTTP Status: 200\n"
      ]
     },
     "execution_count": 5,
     "metadata": {},
     "output_type": "execute_result"
    }
   ],
   "source": [
    "echo \"HTTP Status: {$fmdb->httpStatus()}\";"
   ]
  },
  {
   "cell_type": "markdown",
   "metadata": {},
   "source": [
    "The following two methods return the error code and message of the latest API call which is submitted in query() method. You can check API calling succeed or fail if error code is or isn't 0 every after API calling methods."
   ]
  },
  {
   "cell_type": "code",
   "execution_count": 6,
   "metadata": {},
   "outputs": [
    {
     "data": {
      "text/plain": [
       "Error Code: 0\n"
      ]
     },
     "execution_count": 6,
     "metadata": {},
     "output_type": "execute_result"
    },
    {
     "data": {
      "text/plain": [
       "Error Message: \n"
      ]
     },
     "execution_count": 6,
     "metadata": {},
     "output_type": "execute_result"
    }
   ],
   "source": [
    "echo \"Error Code: {$fmdb->errorCode()}\";\n",
    "echo \"Error Message: {$fmdb->errorMessage()}\";"
   ]
  },
  {
   "cell_type": "markdown",
   "metadata": {},
   "source": [
    "### Accessing Queried Data\n",
    "The FileMakerRelation class implements the Iterator interface and it can repeat with 'foreach.' The \\$record also refers a FileMakerRelation object but it is for single record. This layout has fields as like 'id', 'name', 'mail' and so on, and the field name can be handle as a property name of the the record referring with \\$record. The 'person' table in database has 3 records and you can see 3 outs below. The recordId or redId is required to update the record, and it can get by the getRecordId method."
   ]
  },
  {
   "cell_type": "code",
   "execution_count": 7,
   "metadata": {},
   "outputs": [
    {
     "data": {
      "text/plain": [
       "[id]1, [name]Masayuki Nii, [mail]Dog\n"
      ]
     },
     "execution_count": 7,
     "metadata": {},
     "output_type": "execute_result"
    },
    {
     "data": {
      "text/plain": [
       "__[recordId = 1]\n"
      ]
     },
     "execution_count": 7,
     "metadata": {},
     "output_type": "execute_result"
    },
    {
     "data": {
      "text/plain": [
       "[id]2, [name]Someone, [mail]msyk@msyk.net\n"
      ]
     },
     "execution_count": 7,
     "metadata": {},
     "output_type": "execute_result"
    },
    {
     "data": {
      "text/plain": [
       "__[recordId = 2]\n"
      ]
     },
     "execution_count": 7,
     "metadata": {},
     "output_type": "execute_result"
    },
    {
     "data": {
      "text/plain": [
       "[id]3, [name]Anyone, [mail]Dog\n"
      ]
     },
     "execution_count": 7,
     "metadata": {},
     "output_type": "execute_result"
    },
    {
     "data": {
      "text/plain": [
       "__[recordId = 3]\n"
      ]
     },
     "execution_count": 7,
     "metadata": {},
     "output_type": "execute_result"
    }
   ],
   "source": [
    "if (!is_null($result)) {\n",
    "    foreach ($result as $record) {\n",
    "       echo \"[id]{$record->id}, [name]{$record->name}, [mail]{$record->mail}\";\n",
    "       echo \"__[recordId = {$record->getRecordId()}]\";\n",
    "    }\n",
    "}"
   ]
  },
  {
   "cell_type": "markdown",
   "metadata": {},
   "source": [
    "### Accessing to Portal Data\n",
    "A portal name property returns records of portal as FileMakerRelation object. You can repeat with foreach for the portal records.\n",
    "\n",
    "Technically portal field has to be refered as \"contact_to::id\" but it can be an indentifier in PHP. In this case you can call field method as like 'field(\"summary\", \"contact_to\").' If the field belongs to the table occurrence for the portal, you can refer the field as like '$item->id.' If the field belongs to another table occurrence, you have to call the 'field()' method.\n",
    "\n",
    "If the object name of the portal is blank, it can be referred as the table occurrence name. If the object name is specified, you have to access with the object name and it means you have to call 'field()' method to get the value."
   ]
  },
  {
   "cell_type": "code",
   "execution_count": 8,
   "metadata": {},
   "outputs": [
    {
     "data": {
      "text/plain": [
       "id: 1, name: Masayuki Nii, mail: Dog\n"
      ]
     },
     "execution_count": 8,
     "metadata": {},
     "output_type": "execute_result"
    },
    {
     "data": {
      "text/plain": [
       "__[PORTAL(contact_to)][id]1, [summary]Telephone\n"
      ]
     },
     "execution_count": 8,
     "metadata": {},
     "output_type": "execute_result"
    },
    {
     "data": {
      "text/plain": [
       "__[PORTAL(contact_to)][id]2, [summary]Meetings\n"
      ]
     },
     "execution_count": 8,
     "metadata": {},
     "output_type": "execute_result"
    },
    {
     "data": {
      "text/plain": [
       "__[PORTAL(contact_to)][id]3, [summary]Mail\n"
      ]
     },
     "execution_count": 8,
     "metadata": {},
     "output_type": "execute_result"
    },
    {
     "data": {
      "text/plain": [
       "id: 2, name: Someone, mail: msyk@msyk.net\n"
      ]
     },
     "execution_count": 8,
     "metadata": {},
     "output_type": "execute_result"
    },
    {
     "data": {
      "text/plain": [
       "__[PORTAL(contact_to)][id]4, [summary]Calling\n"
      ]
     },
     "execution_count": 8,
     "metadata": {},
     "output_type": "execute_result"
    },
    {
     "data": {
      "text/plain": [
       "__[PORTAL(contact_to)][id]5, [summary]Telephone\n"
      ]
     },
     "execution_count": 8,
     "metadata": {},
     "output_type": "execute_result"
    },
    {
     "data": {
      "text/plain": [
       "id: 3, name: Anyone, mail: Dog\n"
      ]
     },
     "execution_count": 8,
     "metadata": {},
     "output_type": "execute_result"
    },
    {
     "data": {
      "text/plain": [
       "__[PORTAL(contact_to)][id]6, [summary]Meeting\n"
      ]
     },
     "execution_count": 8,
     "metadata": {},
     "output_type": "execute_result"
    },
    {
     "data": {
      "text/plain": [
       "__[PORTAL(contact_to)][id]7, [summary]Mail etcsss\n"
      ]
     },
     "execution_count": 8,
     "metadata": {},
     "output_type": "execute_result"
    }
   ],
   "source": [
    "if (!is_null($result)) {\n",
    "    foreach ($result as $record) {\n",
    "       echo \"id: {$record->id}, name: {$record->name}, mail: {$record->mail}\";\n",
    "       $contacts = $record->Contact;\n",
    "       foreach ($contacts as $item) {\n",
    "           $id = $item->field(\"id\", \"contact_to\");\n",
    "           $summary = $item->field(\"summary\", \"contact_to\");\n",
    "           echo \"__[PORTAL(contact_to)][id]{$id}, [summary]{$summary}\";\n",
    "       }\n",
    "    }\n",
    "}"
   ]
  },
  {
   "cell_type": "markdown",
   "metadata": {},
   "source": [
    "The FileMakerRelation object from 'query()' method can be accessed as like the 'cursor' style repeating.\n",
    "The 'count()' method returns the number of records in response. The variable $result referes current record and you can get the field value with the propaty having the same field name.\n",
    "The portal can be done with same way. The 'next()' method steps forward the pointer of current record.\n",
    "Before examining the cursor looping, the pointer has to move to the first record with the rewind() method."
   ]
  },
  {
   "cell_type": "code",
   "execution_count": 9,
   "metadata": {},
   "outputs": [
    {
     "data": {
      "text/plain": [
       "[id]1, [name]Masayuki Nii, [mail]Dog\n"
      ]
     },
     "execution_count": 9,
     "metadata": {},
     "output_type": "execute_result"
    },
    {
     "data": {
      "text/plain": [
       "__[PORTAL(contact_to)][id]1, [summary]Telephone\n"
      ]
     },
     "execution_count": 9,
     "metadata": {},
     "output_type": "execute_result"
    },
    {
     "data": {
      "text/plain": [
       "__[PORTAL(contact_to)][id]2, [summary]Meetings\n"
      ]
     },
     "execution_count": 9,
     "metadata": {},
     "output_type": "execute_result"
    },
    {
     "data": {
      "text/plain": [
       "__[PORTAL(contact_to)][id]3, [summary]Mail\n"
      ]
     },
     "execution_count": 9,
     "metadata": {},
     "output_type": "execute_result"
    },
    {
     "data": {
      "text/plain": [
       "__[PORTAL(history_to)][startdate]04/01/2001, [enddate]03/31/2003\n"
      ]
     },
     "execution_count": 9,
     "metadata": {},
     "output_type": "execute_result"
    },
    {
     "data": {
      "text/plain": [
       "__[PORTAL(history_to)][startdate]04/01/2003, [enddate]03/31/2007\n"
      ]
     },
     "execution_count": 9,
     "metadata": {},
     "output_type": "execute_result"
    },
    {
     "data": {
      "text/plain": [
       "[id]2, [name]Someone, [mail]msyk@msyk.net\n"
      ]
     },
     "execution_count": 9,
     "metadata": {},
     "output_type": "execute_result"
    },
    {
     "data": {
      "text/plain": [
       "__[PORTAL(contact_to)][id]4, [summary]Calling\n"
      ]
     },
     "execution_count": 9,
     "metadata": {},
     "output_type": "execute_result"
    },
    {
     "data": {
      "text/plain": [
       "__[PORTAL(contact_to)][id]5, [summary]Telephone\n"
      ]
     },
     "execution_count": 9,
     "metadata": {},
     "output_type": "execute_result"
    },
    {
     "data": {
      "text/plain": [
       "[id]3, [name]Anyone, [mail]Dog\n"
      ]
     },
     "execution_count": 9,
     "metadata": {},
     "output_type": "execute_result"
    },
    {
     "data": {
      "text/plain": [
       "__[PORTAL(contact_to)][id]6, [summary]Meeting\n"
      ]
     },
     "execution_count": 9,
     "metadata": {},
     "output_type": "execute_result"
    },
    {
     "data": {
      "text/plain": [
       "__[PORTAL(contact_to)][id]7, [summary]Mail etcsss\n"
      ]
     },
     "execution_count": 9,
     "metadata": {},
     "output_type": "execute_result"
    }
   ],
   "source": [
    "$result->rewind();\n",
    "for ($i = 0; $i < $result->count(); $i++) {\n",
    "    echo \"[id]{$result->id}, [name]{$result->name}, [mail]{$result->mail}\";\n",
    "    $contacts = $result->Contact;\n",
    "    $contacts->rewind();\n",
    "    for ($j = 0; $j < $contacts->count(); $j++) {\n",
    "        $id = $contacts->field(\"id\", \"contact_to\");\n",
    "        $summary = $contacts->field(\"summary\", \"contact_to\");\n",
    "        echo \"__[PORTAL(contact_to)][id]{$id}, [summary]{$summary}\";\n",
    "        $contacts->next();\n",
    "    }\n",
    "    $histories = $result->History;\n",
    "    $histories->rewind();\n",
    "    for ($j = 0; $j < $histories->count(); $j++) {\n",
    "        $std = $histories->field(\"startdate\", \"history_to\");\n",
    "        $endd = $histories->field(\"enddate\", \"history_to\");\n",
    "        echo \"__[PORTAL(history_to)][startdate]{$std}, [enddate]{$endd}\";\n",
    "        $histories->next();\n",
    "    }\n",
    "    $result->next();\n",
    "}"
   ]
  },
  {
   "cell_type": "markdown",
   "metadata": {},
   "source": [
    "### Sort Fields\n",
    "The second parameter of query method specifies fields for sorting with array of array data. The innner array has one or two elements with the field name and the dicrection as below. This menas ordering by the id field decendly."
   ]
  },
  {
   "cell_type": "code",
   "execution_count": 10,
   "metadata": {},
   "outputs": [
    {
     "data": {
      "text/plain": [
       "[id]3, [name]Anyone, [mail] Dog\n"
      ]
     },
     "execution_count": 10,
     "metadata": {},
     "output_type": "execute_result"
    },
    {
     "data": {
      "text/plain": [
       "[id]2, [name]Someone, [mail] msyk@msyk.net\n"
      ]
     },
     "execution_count": 10,
     "metadata": {},
     "output_type": "execute_result"
    },
    {
     "data": {
      "text/plain": [
       "[id]1, [name]Masayuki Nii, [mail] Dog\n"
      ]
     },
     "execution_count": 10,
     "metadata": {},
     "output_type": "execute_result"
    }
   ],
   "source": [
    "$result = $fmdb->person_layout->query(null, [[\"id\", \"descend\"]]);\n",
    "if (!is_null($result)) {\n",
    "    foreach ($result as $record) {\n",
    "       echo \"[id]{$record->id}, [name]{$record->name}, [mail] {$record->mail}\";\n",
    "    }\n",
    "}"
   ]
  },
  {
   "cell_type": "markdown",
   "metadata": {},
   "source": [
    "### Start Record and Limit Records\n",
    "The third and fourth parameter of the query method specify the start record number and the limit number of record. The following query means query 5 records from 20th record with ordered by the f3 fields."
   ]
  },
  {
   "cell_type": "code",
   "execution_count": 11,
   "metadata": {},
   "outputs": [
    {
     "data": {
      "text/plain": [
       "[postal code]1000400, [place]東京都新島村以下に掲載がない場合\n"
      ]
     },
     "execution_count": 11,
     "metadata": {},
     "output_type": "execute_result"
    },
    {
     "data": {
      "text/plain": [
       "[postal code]1000401, [place]東京都新島村若郷\n"
      ]
     },
     "execution_count": 11,
     "metadata": {},
     "output_type": "execute_result"
    },
    {
     "data": {
      "text/plain": [
       "[postal code]1000402, [place]東京都新島村本村\n"
      ]
     },
     "execution_count": 11,
     "metadata": {},
     "output_type": "execute_result"
    },
    {
     "data": {
      "text/plain": [
       "[postal code]1000511, [place]東京都新島村式根島\n"
      ]
     },
     "execution_count": 11,
     "metadata": {},
     "output_type": "execute_result"
    },
    {
     "data": {
      "text/plain": [
       "[postal code]1000601, [place]東京都神津島村神津島村一円\n"
      ]
     },
     "execution_count": 11,
     "metadata": {},
     "output_type": "execute_result"
    }
   ],
   "source": [
    "$result = $fmdb->postalcode->query(null, [[\"f3\"]], 20, 5);\n",
    "if (!is_null($result)) {\n",
    "    foreach ($result as $record) {\n",
    "       echo \"[postal code]{$record->f3}, [place]{$record->f7}{$record->f8}{$record->f9}\";\n",
    "    }\n",
    "}"
   ]
  },
  {
   "cell_type": "markdown",
   "metadata": {},
   "source": [
    "### Query with Condtion\n",
    "The 'query()' method can have several parameters. The first parameter specifies condtions with array of array. Simply key is a field name and value is the value. The following condition means just query the id field is \"1\"."
   ]
  },
  {
   "cell_type": "code",
   "execution_count": 12,
   "metadata": {},
   "outputs": [
    {
     "data": {
      "text/plain": [
       "[id]1, [name]Masayuki Nii, [mail] Dog\n"
      ]
     },
     "execution_count": 12,
     "metadata": {},
     "output_type": "execute_result"
    }
   ],
   "source": [
    "$result = $fmdb->person_layout->query([[\"id\" => \"1\"]]);\n",
    "if (!is_null($result)) {\n",
    "    foreach ($result as $record) {\n",
    "       echo \"[id]{$record->id}, [name]{$record->name}, [mail] {$record->mail}\";\n",
    "    }\n",
    "}"
   ]
  },
  {
   "cell_type": "markdown",
   "metadata": {},
   "source": [
    "Next query means character 中 contains in the f9 field."
   ]
  },
  {
   "cell_type": "code",
   "execution_count": 13,
   "metadata": {},
   "outputs": [
    {
     "data": {
      "text/plain": [
       "[postal code]1030008, [place]東京都中央区日本橋中洲\n"
      ]
     },
     "execution_count": 13,
     "metadata": {},
     "output_type": "execute_result"
    },
    {
     "data": {
      "text/plain": [
       "[postal code]1610035, [place]東京都新宿区中井\n"
      ]
     },
     "execution_count": 13,
     "metadata": {},
     "output_type": "execute_result"
    },
    {
     "data": {
      "text/plain": [
       "[postal code]1610032, [place]東京都新宿区中落合\n"
      ]
     },
     "execution_count": 13,
     "metadata": {},
     "output_type": "execute_result"
    }
   ],
   "source": [
    "$result = $fmdb->postalcode->query([[\"f9\" => \"中\"]], null, 1, 3);\n",
    "if (!is_null($result)) {\n",
    "    foreach ($result as $record) {\n",
    "       echo \"[postal code]{$record->f3}, [place]{$record->f7}{$record->f8}{$record->f9}\";\n",
    "    }\n",
    "}"
   ]
  },
  {
   "cell_type": "markdown",
   "metadata": {},
   "source": [
    "Next query means the f8 field is just 中央区 AND character 中 contains in the f9 field."
   ]
  },
  {
   "cell_type": "code",
   "execution_count": 14,
   "metadata": {},
   "outputs": [
    {
     "data": {
      "text/plain": [
       "[postal code]1030008, [place]東京都中央区日本橋中洲\n"
      ]
     },
     "execution_count": 14,
     "metadata": {},
     "output_type": "execute_result"
    }
   ],
   "source": [
    "$result = $fmdb->postalcode->query([[\"f8\" => \"=中央区\", \"f9\" => \"中\"]], null, 1, 3);\n",
    "if (!is_null($result)) {\n",
    "    foreach ($result as $record) {\n",
    "       echo \"[postal code]{$record->f3}, [place]{$record->f7}{$record->f8}{$record->f9}\";\n",
    "    }\n",
    "}"
   ]
  },
  {
   "cell_type": "markdown",
   "metadata": {},
   "source": [
    "Next query means the character 中 contains in the f8 OR f9 field."
   ]
  },
  {
   "cell_type": "code",
   "execution_count": 15,
   "metadata": {},
   "outputs": [
    {
     "data": {
      "text/plain": [
       "[postal code]1030000, [place]東京都中央区以下に掲載がない場合\n"
      ]
     },
     "execution_count": 15,
     "metadata": {},
     "output_type": "execute_result"
    },
    {
     "data": {
      "text/plain": [
       "[postal code]1040044, [place]東京都中央区明石町\n"
      ]
     },
     "execution_count": 15,
     "metadata": {},
     "output_type": "execute_result"
    },
    {
     "data": {
      "text/plain": [
       "[postal code]1040042, [place]東京都中央区入船\n"
      ]
     },
     "execution_count": 15,
     "metadata": {},
     "output_type": "execute_result"
    }
   ],
   "source": [
    "$result = $fmdb->postalcode->query([[\"f8\" => \"中\"], [\"f9\" => \"中\"]], null, 1, 3);\n",
    "if (!is_null($result)) {\n",
    "    foreach ($result as $record) {\n",
    "       echo \"[postal code]{$record->f3}, [place]{$record->f7}{$record->f8}{$record->f9}\";\n",
    "    }\n",
    "}"
   ]
  },
  {
   "cell_type": "markdown",
   "metadata": {},
   "source": [
    "Next query means the f3 field is within the range from 170000 to 171000."
   ]
  },
  {
   "cell_type": "code",
   "execution_count": 16,
   "metadata": {},
   "outputs": [
    {
     "data": {
      "text/plain": [
       "[postal code]1700000, [place]東京都豊島区以下に掲載がない場合\n"
      ]
     },
     "execution_count": 16,
     "metadata": {},
     "output_type": "execute_result"
    },
    {
     "data": {
      "text/plain": [
       "[postal code]1700014, [place]東京都豊島区池袋（１丁目）\n"
      ]
     },
     "execution_count": 16,
     "metadata": {},
     "output_type": "execute_result"
    },
    {
     "data": {
      "text/plain": [
       "[postal code]1700011, [place]東京都豊島区池袋本町\n"
      ]
     },
     "execution_count": 16,
     "metadata": {},
     "output_type": "execute_result"
    }
   ],
   "source": [
    "$result = $fmdb->postalcode->query([[\"f3\" => \"1700000...1710000\"]], null, 1, 3);\n",
    "if (!is_null($result)) {\n",
    "    foreach ($result as $record) {\n",
    "       echo \"[postal code]{$record->f3}, [place]{$record->f7}{$record->f8}{$record->f9}\";\n",
    "    }\n",
    "}"
   ]
  },
  {
   "cell_type": "markdown",
   "metadata": {},
   "source": [
    "### Restricting to Specified Portals\n",
    "The portal specification (the 5th parameter of query or the second parameter of getRecord) has to be an array with the object name of the portal not the table occurrence name. The person_layout has two portals named \"Contact\" and \"History\", but if the 5th parameter is specified, portal data in the result is just in the parameter."
   ]
  },
  {
   "cell_type": "code",
   "execution_count": 17,
   "metadata": {},
   "outputs": [
    {
     "data": {
      "text/plain": [
       "[id]1, [name]Masayuki Nii, [mail]Dog\n"
      ]
     },
     "execution_count": 17,
     "metadata": {},
     "output_type": "execute_result"
    },
    {
     "data": {
      "text/plain": [
       "__[PORTAL(history_to)][startdate]04/01/2001, [enddate]03/31/2003\n"
      ]
     },
     "execution_count": 17,
     "metadata": {},
     "output_type": "execute_result"
    },
    {
     "data": {
      "text/plain": [
       "__[PORTAL(history_to)][startdate]04/01/2003, [enddate]03/31/2007\n"
      ]
     },
     "execution_count": 17,
     "metadata": {},
     "output_type": "execute_result"
    }
   ],
   "source": [
    "$result = $fmdb->person_layout->query([[\"id\" => \"1\"]], null, 1, -1, [\"History\"]);\n",
    "if (!is_null($result)) {\n",
    "    foreach ($result as $record) {\n",
    "       echo \"[id]{$record->id}, [name]{$record->name}, [mail]{$record->mail}\";\n",
    "       $histories = $record->History;\n",
    "       foreach ($histories as $item) {\n",
    "           $startdate = $item->field(\"startdate\", \"history_to\");\n",
    "           $enddate = $item->field(\"enddate\", \"history_to\");\n",
    "           echo \"__[PORTAL(history_to)][startdate]{$startdate}, [enddate]{$enddate}\";\n",
    "       }\n",
    "    }\n",
    "}"
   ]
  },
  {
   "cell_type": "markdown",
   "metadata": {},
   "source": [
    "## Writing Operations\n",
    "### Create Record\n",
    "The 'create()' method creates a record with values in parameter.\n",
    "The associated array of the parameter has to be a series of field name key and its value."
   ]
  },
  {
   "cell_type": "code",
   "execution_count": 18,
   "metadata": {},
   "outputs": [
    {
     "data": {
      "text/plain": [
       "\"\u001b[32m4123\u001b[39m\""
      ]
     },
     "execution_count": 18,
     "metadata": {},
     "output_type": "execute_result"
    }
   ],
   "source": [
    "$recId = $fmdb->postalcode->create([\"f3\" => \"field 3 data\", \"f7\" => \"field 7 data\"]);"
   ]
  },
  {
   "cell_type": "markdown",
   "metadata": {},
   "source": [
    "The 'getRecord()' method query the record with the recordId of the parameter.\n",
    "It returns the FileMakerRelation object and you can handle it with the return value from 'query()' method."
   ]
  },
  {
   "cell_type": "code",
   "execution_count": 19,
   "metadata": {},
   "outputs": [
    {
     "data": {
      "text/plain": [
       "[f3]field 3 data, [f7]field 7 data, [f8]\n"
      ]
     },
     "execution_count": 19,
     "metadata": {},
     "output_type": "execute_result"
    }
   ],
   "source": [
    "$result = $fmdb->postalcode->getRecord($recId);\n",
    "if (!is_null($result)) {\n",
    "    foreach ($result as $record) {\n",
    "        echo \"[f3]{$record->f3}, [f7]{$record->f7}, [f8]{$record->f8}\";\n",
    "    }\n",
    "}"
   ]
  },
  {
   "cell_type": "markdown",
   "metadata": {},
   "source": [
    "### Update Record\n",
    "The 'update()' method modifies fields in a record. You have to set parameters as the recordId of target record and associated array to specify the modified data."
   ]
  },
  {
   "cell_type": "code",
   "execution_count": 20,
   "metadata": {},
   "outputs": [
    {
     "data": {
      "text/plain": [
       "[f3]field 3 modifed, [f7]field 7 data, [f8]field 8 update\n"
      ]
     },
     "execution_count": 20,
     "metadata": {},
     "output_type": "execute_result"
    }
   ],
   "source": [
    "$fmdb->postalcode->update($recId, [\"f3\" => \"field 3 modifed\", \"f8\" => \"field 8 update\"]);\n",
    "$result = $fmdb->postalcode->getRecord($recId);\n",
    "if (!is_null($result)) {\n",
    "    foreach ($result as $record) {\n",
    "       echo \"[f3]{$record->f3}, [f7]{$record->f7}, [f8]{$record->f8}\";\n",
    "    }\n",
    "}"
   ]
  },
  {
   "cell_type": "markdown",
   "metadata": {},
   "source": [
    "## Delete Record\n",
    "The 'delete()' method deletes the record specified by the parameter."
   ]
  },
  {
   "cell_type": "code",
   "execution_count": 21,
   "metadata": {},
   "outputs": [
    {
     "data": {
      "text/plain": [
       "\u001b[36mnull\u001b[39m"
      ]
     },
     "execution_count": 21,
     "metadata": {},
     "output_type": "execute_result"
    }
   ],
   "source": [
    "$fmdb->postalcode->delete($recId);"
   ]
  },
  {
   "cell_type": "markdown",
   "metadata": {},
   "source": [
    "## Call Script\n",
    "Some methods ex. query can execute a script with 6th paramter."
   ]
  },
  {
   "cell_type": "markdown",
   "metadata": {},
   "source": [
    "This example execute the \"TextScript\" script with the parameter \"ok\". The script finishes no error and returns value and you can detect it from the getScriptResult method."
   ]
  },
  {
   "cell_type": "code",
   "execution_count": 22,
   "metadata": {},
   "outputs": [
    {
     "data": {
      "text/plain": [
       "Script Error: 0\n"
      ]
     },
     "execution_count": 22,
     "metadata": {},
     "output_type": "execute_result"
    },
    {
     "data": {
      "text/plain": [
       "Script Result: It's over.\n"
      ]
     },
     "execution_count": 22,
     "metadata": {},
     "output_type": "execute_result"
    }
   ],
   "source": [
    "$scriptSpec = [\"script\" => \"TestScript\", \"script.param\" => \"ok\"];\n",
    "$result = $fmdb->person_layout->query(null, null, -1, 1, null, $scriptSpec);\n",
    "if (!is_null($result)) {\n",
    "    echo \"Script Error: {$fmdb->person_layout->getScriptError()}\";\n",
    "    echo \"Script Result: {$fmdb->person_layout->getScriptResult()}\";\n",
    "}"
   ]
  },
  {
   "cell_type": "markdown",
   "metadata": {},
   "source": [
    "The \"script\" key's script executes just after querying. Otherwise the \"script.prerequest\" key's one does before querying. Errors and/or Result can be detect with methods described below."
   ]
  },
  {
   "cell_type": "code",
   "execution_count": 23,
   "metadata": {},
   "outputs": [
    {
     "data": {
      "text/plain": [
       "Script Error: 0\n"
      ]
     },
     "execution_count": 23,
     "metadata": {},
     "output_type": "execute_result"
    },
    {
     "data": {
      "text/plain": [
       "Script Result: It's over.\n"
      ]
     },
     "execution_count": 23,
     "metadata": {},
     "output_type": "execute_result"
    }
   ],
   "source": [
    "$scriptSpec = [\"script.prerequest\" => \"TestScript\", \"script.prerequest.param\" => \"ok\"];\n",
    "$result = $fmdb->person_layout->query(null, null, -1, 1, null, $scriptSpec);\n",
    "if (!is_null($result)) {\n",
    "    echo \"Script Error: {$fmdb->person_layout->getScriptErrorPrerequest()}\";\n",
    "    echo \"Script Result: {$fmdb->person_layout->getScriptResultPrerequest()}\";\n",
    "\n",
    "}"
   ]
  },
  {
   "cell_type": "markdown",
   "metadata": {},
   "source": [
    "If any errors happens in the script, the error is not 0 as shown below."
   ]
  },
  {
   "cell_type": "code",
   "execution_count": 24,
   "metadata": {},
   "outputs": [
    {
     "data": {
      "text/plain": [
       "Script Error: 102\n"
      ]
     },
     "execution_count": 24,
     "metadata": {},
     "output_type": "execute_result"
    },
    {
     "data": {
      "text/plain": [
       "Script Result: It's error.\n"
      ]
     },
     "execution_count": 24,
     "metadata": {},
     "output_type": "execute_result"
    }
   ],
   "source": [
    "$scriptSpec = [\"script\" => \"TestScript\", \"script.param\" => \"not\"];\n",
    "$result = $fmdb->person_layout->query(null, null, -1, 1, null, $scriptSpec);\n",
    "if (!is_null($result)) {\n",
    "    echo \"Script Error: {$fmdb->person_layout->getScriptError()}\";\n",
    "    echo \"Script Result: {$fmdb->person_layout->getScriptResult()}\";\n",
    "}"
   ]
  },
  {
   "cell_type": "markdown",
   "metadata": {},
   "source": [
    "If you don't specify any script information, error and result are both \"blank\" data."
   ]
  },
  {
   "cell_type": "code",
   "execution_count": 25,
   "metadata": {},
   "outputs": [
    {
     "data": {
      "text/plain": [
       "Script Error: \n"
      ]
     },
     "execution_count": 25,
     "metadata": {},
     "output_type": "execute_result"
    },
    {
     "data": {
      "text/plain": [
       "Script Result: \n"
      ]
     },
     "execution_count": 25,
     "metadata": {},
     "output_type": "execute_result"
    }
   ],
   "source": [
    "$result = $fmdb->person_layout->query(null, null, -1, 1);\n",
    "if (!is_null($result)) {\n",
    "    echo \"Script Error: {$fmdb->person_layout->getScriptError()}\";\n",
    "    echo \"Script Result: {$fmdb->person_layout->getScriptResult()}\";\n",
    "}"
   ]
  },
  {
   "cell_type": "markdown",
   "metadata": {},
   "source": [
    "## File Uploading\n",
    "A new record is created in \"testtable\" table on the first statement of below.\n",
    "Then the \"testtable\" table has a container filed \"vc1\". One image file is going to be uploaded to it.\n",
    "The file path, record id and field name are required."
   ]
  },
  {
   "cell_type": "code",
   "execution_count": 26,
   "metadata": {},
   "outputs": [
    {
     "data": {
      "text/plain": [
       "\u001b[36mnull\u001b[39m"
      ]
     },
     "execution_count": 26,
     "metadata": {},
     "output_type": "execute_result"
    }
   ],
   "source": [
    "$recId = $fmdb->testtable->create();\n",
    "$fmdb->testtable->uploadFile(\"samples/cat.jpg\", $recId, \"vc1\");"
   ]
  },
  {
   "cell_type": "markdown",
   "metadata": {},
   "source": [
    "What kind of data does the container field which inserted an image return? For example, the returned value is going to show as the value of the vc1 field as below. It'a kind of url, and it can get the content of the container field, and it means you can download with the getContainerData method. "
   ]
  },
  {
   "cell_type": "code",
   "execution_count": 27,
   "metadata": {},
   "outputs": [
    {
     "data": {
      "text/plain": [
       "vc1: https://localhost/Streaming_SSL/MainDB/F18E548D6339DB444ED92BF13DE220A5F773E7E68607E29E388FBD6ECE1B5AEF.jpg?RCType=EmbeddedRCFileProcessor\n"
      ]
     },
     "execution_count": 27,
     "metadata": {},
     "output_type": "execute_result"
    },
    {
     "data": {
      "text/plain": [
       "\u001b[31;1mException with message 'Error in creating cookie file. Failed to connect to localhost port 443: Connection refused'\u001b[39;22m"
      ]
     },
     "execution_count": 27,
     "metadata": {},
     "output_type": "execute_result"
    }
   ],
   "source": [
    "$result = $fmdb->testtable->getRecord($recId);\n",
    "if(!is_null($result)) {\n",
    "    foreach ($result as $record) {\n",
    "        echo \"vc1: {$record->vc1}\";\n",
    "        echo \"<img src='data:image/jpeg;base64,\" . $record->getContainerData('vc1') . \"'>\";\n",
    "    }\n",
    "}"
   ]
  },
  {
   "cell_type": "markdown",
   "metadata": {},
   "source": [
    "## Batch Operations\n",
    "If you call the 'startCommunication()' method, you can describe a series of database operation\n",
    "calls. This means the authentication is going to be done at the 'startCommunication()' method, and the token is going to be shared with following statements. The 'endCommunication()' calls logout REST API call and invalidate the shared token."
   ]
  },
  {
   "cell_type": "code",
   "execution_count": 28,
   "metadata": {},
   "outputs": [
    {
     "data": {
      "text/plain": [
       "array (\n",
       "  0 => '4124',\n",
       "  1 => '4125',\n",
       "  2 => '4126',\n",
       "  3 => '4127',\n",
       "  4 => '4128',\n",
       "  5 => '4129',\n",
       "  6 => '4130',\n",
       ")\n"
      ]
     },
     "execution_count": 28,
     "metadata": {},
     "output_type": "execute_result"
    }
   ],
   "source": [
    "$recIds = [];\n",
    "$fmdb->postalcode->startCommunication();\n",
    "$recIds[] = $fmdb->postalcode->create([\"f3\" => \"field 3 data 1\", \"f7\" => \"field 7 data\"]);\n",
    "$recIds[] = $fmdb->postalcode->create([\"f3\" => \"field 3 data 2\", \"f7\" => \"field 7 data\"]);\n",
    "$recIds[] = $fmdb->postalcode->create([\"f3\" => \"field 3 data 3\", \"f7\" => \"field 7 data\"]);\n",
    "$recIds[] = $fmdb->postalcode->create([\"f3\" => \"field 3 data 4\", \"f7\" => \"field 7 data\"]);\n",
    "$recIds[] = $fmdb->postalcode->create([\"f3\" => \"field 3 data 5\", \"f7\" => \"field 7 data\"]);\n",
    "$recIds[] = $fmdb->postalcode->create([\"f3\" => \"field 3 data 6\", \"f7\" => \"field 7 data\"]);\n",
    "$recIds[] = $fmdb->postalcode->create([\"f3\" => \"field 3 data 7\", \"f7\" => \"field 7 data\"]);\n",
    "$fmdb->postalcode->endCommunication();\n",
    "echo var_export($recIds, true);"
   ]
  },
  {
   "cell_type": "markdown",
   "metadata": {},
   "source": [
    "## Parameter for Operations"
   ]
  },
  {
   "cell_type": "markdown",
   "metadata": {},
   "source": [
    "You can turn off to throw an exception in case of error. You have to handle errors with checking result error."
   ]
  },
  {
   "cell_type": "code",
   "execution_count": 29,
   "metadata": {},
   "outputs": [
    {
     "data": {
      "text/plain": [
       "\u001b[36mnull\u001b[39m"
      ]
     },
     "execution_count": 29,
     "metadata": {},
     "output_type": "execute_result"
    }
   ],
   "source": [
    "$fmdb->setThrowException(false);"
   ]
  },
  {
   "cell_type": "markdown",
   "metadata": {},
   "source": [
    "If you set to throwing exceptions, you can describe the try-catch statement in your code for error handling."
   ]
  },
  {
   "cell_type": "code",
   "execution_count": 30,
   "metadata": {},
   "outputs": [
    {
     "data": {
      "text/plain": [
       "[Exception]Field not_exist_field doesn't exist.\n"
      ]
     },
     "execution_count": 30,
     "metadata": {},
     "output_type": "execute_result"
    }
   ],
   "source": [
    "$fmdb->setThrowException(true);\n",
    "$result = $fmdb->testtable->getRecord($recId);\n",
    "try {\n",
    "    foreach ($result as $record) {\n",
    "        echo $record->not_exist_field;\n",
    "    }\n",
    "} catch(Exception $ex) {\n",
    "    echo \"[Exception]{$ex->getMessage()}\";\n",
    "}"
   ]
  },
  {
   "cell_type": "markdown",
   "metadata": {},
   "source": [
    "If you call with true, the debug mode is activated. Debug mode echos the contents of communication such as request and response."
   ]
  },
  {
   "cell_type": "code",
   "execution_count": 31,
   "metadata": {},
   "outputs": [
    {
     "data": {
      "text/plain": [
       "\u001b[36mnull\u001b[39m"
      ]
     },
     "execution_count": 31,
     "metadata": {},
     "output_type": "execute_result"
    }
   ],
   "source": [
    "$fmdb->setDebug(false);"
   ]
  },
  {
   "cell_type": "markdown",
   "metadata": {},
   "source": [
    "If you call with true, the certificate from the server is going to verify. In case of self-signed one (usually default situation), you don't have to call this method."
   ]
  },
  {
   "cell_type": "code",
   "execution_count": 32,
   "metadata": {},
   "outputs": [],
   "source": [
    "//$fmdb->setCertValidating(true);"
   ]
  }
 ],
 "metadata": {
  "kernelspec": {
   "display_name": "PHP",
   "language": "php",
   "name": "jupyter-php"
  },
  "language_info": {
   "file_extension": ".php",
   "mimetype": "text/x-php",
   "name": "PHP",
   "pygments_lexer": "PHP",
   "version": "7.2.12"
  }
 },
 "nbformat": 4,
 "nbformat_minor": 2
}
